{
  "cells": [
    {
      "cell_type": "code",
      "execution_count": 11,
      "metadata": {
        "id": "ytr0-cbIX-Q0"
      },
      "outputs": [],
      "source": [
        "import pandas as pd\n",
        "from heapq import *"
      ]
    },
    {
      "cell_type": "code",
      "execution_count": null,
      "metadata": {},
      "outputs": [],
      "source": [
        "direct_df = pd.read_csv('retas.csv', index_col=0, decimal=',').astype(float)\n",
        "real_df = pd.read_csv('real.csv', index_col=0, decimal=',').astype(float)\n",
        "lines_df = pd.read_csv('colors.csv', index_col=0)"
      ]
    },
    {
      "cell_type": "code",
      "execution_count": null,
      "metadata": {},
      "outputs": [],
      "source": [
        "direct_df"
      ]
    },
    {
      "cell_type": "code",
      "execution_count": null,
      "metadata": {},
      "outputs": [],
      "source": [
        "class Mapa:\n",
        "  def __init__(self, tempo_direto, tempo_real, linhas):\n",
        "    self.tempo_direto = tempo_direto\n",
        "    self.tempo_real = tempo_real\n",
        "    self.linhas = linhas\n",
        "      \n",
        "  def direct_time(self, estacao_a, estacao_b):\n",
        "    return self.tempo_direto.at[estacao_a, estacao_b]\n",
        "  \n",
        "  def real_time(self, estacao_a, estacao_b):\n",
        "    return self.tempo_real.at[estacao_a, estacao_b]\n",
        "  \n",
        "  def pegar_linhas(self, estacao_a, estacao_b):\n",
        "    return self.linhas.at[estacao_a, estacao_b]\n",
        "\n",
        "  def pegar_borda(self, estacao):\n",
        "    return self.tempo_real[self.tempo_real[estacao].notna()].index.to_list()"
      ]
    },
    {
      "cell_type": "code",
      "execution_count": null,
      "metadata": {},
      "outputs": [],
      "source": [
        "def heuristic(metro, inicio, final): \n",
        "  iterador = 1\n",
        "  estacoes_checadas = []\n",
        "  queue = [(0, 0, None, inicio)]\n",
        "  estacao_anterior = {inicio: (None, None)}\n",
        "  while len(queue) > 0:\n",
        "    print(f'Fronteira na iteração {iterador}: {[queue]}')\n",
        "    \n",
        "    f, g, linha, estacao = heappop(queue)\n",
        "    estacoes_checadas.append(estacao)\n",
        "    \n",
        "    if estacao == final:\n",
        "      break\n",
        "    for borda_estacao in metro.pegar_borda(estacao):\n",
        "      if not borda_estacao in estacoes_checadas:\n",
        "        border_line = metro.pegar_linhas(estacao, borda_estacao)\n",
        "        \n",
        "        if linha == None or linha == border_line: #checa se está na mesma linha pra saber se precisa fazer baldeação (+4min)\n",
        "          # print(type(g), type(metro.real_time(estacao, borda_estacao)), g, metro.real_time(estacao, borda_estacao))\n",
        "          borda_g = g + metro.real_time(estacao, borda_estacao)\n",
        "        else:\n",
        "          # print(type(g), type(metro.real_time(estacao, borda_estacao)), g, metro.real_time(estacao, borda_estacao))\n",
        "          borda_g = g + metro.real_time(estacao, borda_estacao) + 4.0\n",
        "        \n",
        "        borda_f = borda_g + metro.direct_time(final, borda_estacao)\n",
        "\n",
        "        if borda_estacao in estacao_anterior.keys():\n",
        "          if estacao_anterior[borda_estacao][1] > borda_g: # Checa se o tempo anterior do caminho até essa estação é maior que o de agora, caso sim, atualiza qual é a estação anterior\n",
        "            estacao_anterior[borda_estacao] = (estacao, borda_g)\n",
        "        else:\n",
        "          estacao_anterior[borda_estacao] = (estacao, borda_g) # Caso não tenha sido adicionada na fronteira ainda, apenas indica qual é a estação anterior\n",
        "\n",
        "        heappush(queue, (borda_f, borda_g, border_line, borda_estacao))\n",
        "    \n",
        "    iterador += 1\n",
        "    \n",
        "  rota = []\n",
        "  while estacao != None: # itera o caminho reverso até estação inicial utilizando a informação da estação anterior\n",
        "    rota.insert(0, estacao)\n",
        "    estacao = estacao_anterior[estacao][0]\n",
        "  \n",
        "  print('-'*30)\n",
        "  print('Rota:', ' -> '.join(rota))\n",
        "  print(f'Duração: {g:.2f} minutos')"
      ]
    },
    {
      "cell_type": "code",
      "execution_count": 42,
      "metadata": {},
      "outputs": [],
      "source": [
        "metro_de_paris = Mapa(direct_df, real_df, lines_df)"
      ]
    },
    {
      "cell_type": "code",
      "execution_count": 45,
      "metadata": {},
      "outputs": [
        {
          "name": "stdout",
          "output_type": "stream",
          "text": [
            "Fronteira na iteração 1: [[(0, 0, None, 'E1')]]\n",
            "Fronteira na iteração 2: [[(82.0, 20.0, 'blue', 'E2')]]\n",
            "Fronteira na iteração 3: [[(88.8, 44.0, 'yellow', 'E9'), (115.0, 37.0, 'blue', 'E3'), (101.4, 31.0, 'yellow', 'E10')]]\n",
            "Fronteira na iteração 4: [[(72.4, 72.4, 'red', 'E11'), (101.4, 31.0, 'yellow', 'E10'), (144.8, 66.8, 'red', 'E3'), (127.60000000000001, 63.2, 'yellow', 'E8'), (115.0, 37.0, 'blue', 'E3')]]\n",
            "------------------------------\n",
            "Rota: E1 -> E2 -> E9 -> E11\n",
            "Duração: 72.40 minutos\n"
          ]
        }
      ],
      "source": [
        "# primeiro exemplo\n",
        "heuristic(metro_de_paris, 'E1', 'E11')"
      ]
    }
  ],
  "metadata": {
    "colab": {
      "provenance": []
    },
    "kernelspec": {
      "display_name": "car_sales",
      "language": "python",
      "name": "python3"
    },
    "language_info": {
      "codemirror_mode": {
        "name": "ipython",
        "version": 3
      },
      "file_extension": ".py",
      "mimetype": "text/x-python",
      "name": "python",
      "nbconvert_exporter": "python",
      "pygments_lexer": "ipython3",
      "version": "3.10.8"
    },
    "vscode": {
      "interpreter": {
        "hash": "177c97fc5d31c13938fb592ba489b7f36f49ecf1215259ec631a2770c7444d3b"
      }
    }
  },
  "nbformat": 4,
  "nbformat_minor": 0
}
