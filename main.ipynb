{
  "cells": [
    {
      "cell_type": "code",
      "execution_count": 3,
      "metadata": {
        "id": "ytr0-cbIX-Q0"
      },
      "outputs": [],
      "source": [
        "import pandas as pd"
      ]
    },
    {
      "cell_type": "code",
      "execution_count": null,
      "metadata": {
        "id": "OexzmF1z4qzQ"
      },
      "outputs": [],
      "source": []
    },
    {
      "cell_type": "code",
      "execution_count": null,
      "metadata": {
        "id": "0EZhLWNUYjI6"
      },
      "outputs": [],
      "source": [
        "dist_retas = pd.read_excel('/content/drive/MyDrive/Colab Notebooks/Data/a_star/direct-distances.xlsx', index_col=0)\n",
        "dist_estacoes = pd.read_excel('/content/drive/MyDrive/Colab Notebooks/Data/a_star/direct-distances.xlsx',index_col=0)"
      ]
    },
    {
      "cell_type": "code",
      "execution_count": null,
      "metadata": {
        "id": "FBeE-Z8TyOxw"
      },
      "outputs": [],
      "source": [
        "dist_estacoes.head()"
      ]
    },
    {
      "cell_type": "code",
      "execution_count": null,
      "metadata": {
        "id": "MKSHP5kHTWLl"
      },
      "outputs": [],
      "source": [
        "dist_retas"
      ]
    },
    {
      "cell_type": "code",
      "execution_count": null,
      "metadata": {
        "id": "0yQR1yIbaaBr"
      },
      "outputs": [],
      "source": [
        "class BinaryHeap:\n",
        "  def _swap(self, i, j):\n",
        "    self._container[i], self._container[j] = self._container[j], self._container[i]\n",
        "\n",
        "  def _parent(self, i):\n",
        "    return (i - 1) // 2\n",
        "  \n",
        "  def _left(self, i):\n",
        "    return 2 * i + 1\n",
        "\n",
        "  def _right(self, i):\n",
        "    return 2 * i + 2\n",
        "\n",
        "  def _has_left(self, i):\n",
        "    return self._left(i) < self._size\n",
        "  \n",
        "  def _has_right(self, i):\n",
        "    return self._right(i) < self._size\n",
        "  \n",
        "  def _upheap(self, i):\n",
        "    parent = self._parent(i)\n",
        "    if i > 0 and self._container[i][0] < self._container[parent][0]:\n",
        "      self._swap(i, parent)\n",
        "      self._upheap(parent)\n",
        "  \n",
        "  def _downheap(self, i):\n",
        "    if self._has_left(i):\n",
        "      left = self._left(i)\n",
        "      small_child = left\n",
        "      if self._has_right(i):\n",
        "        right = self._right(i)\n",
        "        if self._container[right][0] < self._container[left][0]:\n",
        "          small_child = right\n",
        "      if self._container[small_child][0] < self._container[i][0]:\n",
        "        self._swap(i, small_child)\n",
        "        self._downheap(small_child)\n",
        "  \n",
        "  def __init__(self, arr=[]):\n",
        "    self._container = arr\n",
        "    self._size = len(arr)\n",
        "    if(self._size > 1):\n",
        "      self.build_heap(arr)\n",
        "  \n",
        "  def push(self, est:tuple):\n",
        "    self._container.append(est)\n",
        "    self._size += 1\n",
        "    self._upheap(self._size - 1)\n",
        "\n",
        "  def extract_min(self):\n",
        "    if self._size == 0:\n",
        "      raise IndexError('Empty Heap!')\n",
        "    self._swap(0, self._size - 1)\n",
        "    return_value = self._container.pop()\n",
        "    self._size -= 1\n",
        "    self._downheap(0)\n",
        "    return return_value\n",
        "  \n",
        "  def build_heap(self, alist:list):\n",
        "    i = len(alist) // 2\n",
        "    self._size = len(alist)\n",
        "    self._container = alist[:]\n",
        "    while (i >= 0):\n",
        "        self._downheap(i)\n",
        "        i = i - 1\n",
        "  \n",
        "  def empty(self)->bool:\n",
        "    return self._size == 0\n",
        "  \n",
        "  def __len__(self):\n",
        "    return self._size\n",
        "  \n",
        "  def __str__(self):\n",
        "    return str(self._container)\n",
        "  \n",
        "  def __repr__(self):\n",
        "    return str(self._container)"
      ]
    },
    {
      "cell_type": "code",
      "execution_count": null,
      "metadata": {
        "id": "NUzQ4dIiY-fA"
      },
      "outputs": [],
      "source": [
        "class Mapa:\n",
        "  def __init__(self):\n",
        "    dist_real = {}\n",
        "    dist_heuristica = {}\n",
        "    linhas_possiveis = {}\n",
        "\n",
        "  def calcula_custo_real(self, est_atual, custo_atual, linha_atual, est_vizinha, est_final):\n",
        "    pass\n",
        "\n",
        "  def calcula_melhor_caminho(self, est_inicial, linha_inicial, estacao_final):\n",
        "    pass"
      ]
    },
    {
      "cell_type": "code",
      "execution_count": null,
      "metadata": {
        "id": "4Cdi10Cd19_C"
      },
      "outputs": [],
      "source": []
    }
  ],
  "metadata": {
    "colab": {
      "provenance": []
    },
    "kernelspec": {
      "display_name": "car_sales",
      "language": "python",
      "name": "python3"
    },
    "language_info": {
      "name": "python",
      "version": "3.10.8 (main, Nov 24 2022, 14:13:03) [GCC 11.2.0]"
    },
    "vscode": {
      "interpreter": {
        "hash": "177c97fc5d31c13938fb592ba489b7f36f49ecf1215259ec631a2770c7444d3b"
      }
    }
  },
  "nbformat": 4,
  "nbformat_minor": 0
}
